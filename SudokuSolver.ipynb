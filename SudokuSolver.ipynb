{
 "cells": [
  {
   "cell_type": "code",
   "execution_count": 81,
   "id": "69be5eeb-2d15-42ce-bba6-d99dd1037f9a",
   "metadata": {},
   "outputs": [],
   "source": [
    "board = [\n",
    "    [7,8,0,4,0,0,1,2,0],\n",
    "    [6,0,0,0,7,5,0,0,9],\n",
    "    [0,0,0,6,0,1,0,7,8],\n",
    "    [0,0,7,0,4,0,2,6,0],\n",
    "    [0,0,1,0,5,0,9,3,0],\n",
    "    [9,0,4,0,6,0,0,0,5],\n",
    "    [0,7,0,3,0,0,0,1,2],\n",
    "    [1,2,0,0,0,7,4,0,0],\n",
    "    [0,4,9,2,0,6,0,0,7]\n",
    "]"
   ]
  },
  {
   "cell_type": "code",
   "execution_count": 82,
   "id": "6435b8e0-514e-4651-acad-43601973563e",
   "metadata": {},
   "outputs": [],
   "source": [
    "def print_board(bo):\n",
    "\n",
    "    for i in range(len(bo)):\n",
    "        if i%3 == 0 and i != 0:\n",
    "            print(\"- - - - - - - - - - - -\")\n",
    "            \n",
    "        for  j in range(len(bo[0])):\n",
    "            if j%3 == 0 and j != 0:\n",
    "                print(\" | \", end=\"\")\n",
    "\n",
    "            if j == 8:\n",
    "                print(bo[i][j])\n",
    "            else:\n",
    "                print(str(bo[i][j]) + \" \", end=\"\")\n",
    "\n"
   ]
  },
  {
   "cell_type": "code",
   "execution_count": 83,
   "id": "739cdc3b-d398-48ad-9fe5-d0e555503eb8",
   "metadata": {},
   "outputs": [
    {
     "name": "stdout",
     "output_type": "stream",
     "text": [
      "7 8 0  | 4 0 0  | 1 2 0\n",
      "6 0 0  | 0 7 5  | 0 0 9\n",
      "0 0 0  | 6 0 1  | 0 7 8\n",
      "- - - - - - - - - - - -\n",
      "0 0 7  | 0 4 0  | 2 6 0\n",
      "0 0 1  | 0 5 0  | 9 3 0\n",
      "9 0 4  | 0 6 0  | 0 0 5\n",
      "- - - - - - - - - - - -\n",
      "0 7 0  | 3 0 0  | 0 1 2\n",
      "1 2 0  | 0 0 7  | 4 0 0\n",
      "0 4 9  | 2 0 6  | 0 0 7\n"
     ]
    }
   ],
   "source": [
    "print_board(board)"
   ]
  },
  {
   "cell_type": "code",
   "execution_count": 84,
   "id": "f83c9562-f694-4ef5-839d-b3cca933e220",
   "metadata": {},
   "outputs": [],
   "source": [
    "def find_empty(bo):\n",
    "    for i in range(len(bo)):\n",
    "        for j in range(len(bo[0])):\n",
    "            if bo[i][j] == 0:\n",
    "                return (i, j) #row /column\n",
    "    return None"
   ]
  },
  {
   "cell_type": "code",
   "execution_count": 85,
   "id": "b41dca2f-b655-4d53-9b47-56dfbf7c9acd",
   "metadata": {},
   "outputs": [],
   "source": [
    "def valid(bo, num, pos):\n",
    "\n",
    "    # Check row\n",
    "    for i in range(len(bo[0])):\n",
    "        if bo[pos[0]][i] == num and pos[1] != i:\n",
    "            return False\n",
    "            \n",
    "     # Check column\n",
    "    for i in range(len(bo)):\n",
    "        if bo[i][pos[1]] == num and pos[0] != i:\n",
    "            return False\n",
    "\n",
    "    #Check box\n",
    "    # Check box\n",
    "    box_x = pos[1] // 3\n",
    "    box_y = pos[0] // 3\n",
    "\n",
    "    for i in range(box_y*3, box_y*3 + 3):\n",
    "        for j in range(box_x * 3, box_x*3 + 3):\n",
    "            if bo[i][j] == num and (i,j) != pos:\n",
    "                return False\n",
    "\n",
    "    return True"
   ]
  },
  {
   "cell_type": "code",
   "execution_count": 86,
   "id": "94647ed2-8a20-4feb-b628-9a6175ced1ce",
   "metadata": {},
   "outputs": [],
   "source": [
    "def solve(bo):\n",
    "    find = find_empty(bo)\n",
    "    if not find:\n",
    "        return True\n",
    "    else:\n",
    "        row, col = find\n",
    "\n",
    "    for i in range(1,10):\n",
    "        if valid(bo, i, (row, col)):\n",
    "            bo[row][col] = i\n",
    "\n",
    "            if solve(bo):\n",
    "                return True\n",
    "\n",
    "            bo[row][col] = 0\n",
    "\n",
    "    return False"
   ]
  },
  {
   "cell_type": "code",
   "execution_count": 91,
   "id": "13d58d86-566c-487f-b204-067597571549",
   "metadata": {},
   "outputs": [
    {
     "name": "stdout",
     "output_type": "stream",
     "text": [
      "_______________________\n",
      "7 8 5  | 4 3 9  | 1 2 6\n",
      "6 1 2  | 8 7 5  | 3 4 9\n",
      "4 9 3  | 6 2 1  | 5 7 8\n",
      "- - - - - - - - - - - -\n",
      "8 5 7  | 9 4 3  | 2 6 1\n",
      "2 6 1  | 7 5 8  | 9 3 4\n",
      "9 3 4  | 1 6 2  | 7 8 5\n",
      "- - - - - - - - - - - -\n",
      "5 7 8  | 3 9 4  | 6 1 2\n",
      "1 2 6  | 5 8 7  | 4 9 3\n",
      "3 4 9  | 2 1 6  | 8 5 7\n",
      "_______________________\n"
     ]
    }
   ],
   "source": [
    "print(\"_______________________\")\n",
    "solve(board)\n",
    "print_board(board)\n",
    "print(\"_______________________\")"
   ]
  },
  {
   "cell_type": "code",
   "execution_count": null,
   "id": "7cd65984-7f56-4eb8-9e9d-6c6ab2e27c05",
   "metadata": {},
   "outputs": [],
   "source": []
  },
  {
   "cell_type": "code",
   "execution_count": null,
   "id": "88a538f2-8fcb-4895-b54e-17606f2075ab",
   "metadata": {},
   "outputs": [],
   "source": []
  }
 ],
 "metadata": {
  "kernelspec": {
   "display_name": "Python 3 (ipykernel)",
   "language": "python",
   "name": "python3"
  },
  "language_info": {
   "codemirror_mode": {
    "name": "ipython",
    "version": 3
   },
   "file_extension": ".py",
   "mimetype": "text/x-python",
   "name": "python",
   "nbconvert_exporter": "python",
   "pygments_lexer": "ipython3",
   "version": "3.8.15"
  }
 },
 "nbformat": 4,
 "nbformat_minor": 5
}
